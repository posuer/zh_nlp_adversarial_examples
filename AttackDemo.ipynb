{
 "cells": [
  {
   "cell_type": "code",
   "execution_count": 1,
   "metadata": {},
   "outputs": [
    {
     "name": "stderr",
     "output_type": "stream",
     "text": [
      "Using TensorFlow backend.\n"
     ]
    }
   ],
   "source": [
    "import numpy as np\n",
    "import tensorflow as tf\n",
    "\n",
    "from keras.preprocessing.sequence import pad_sequences\n",
    "import pickle"
   ]
  },
  {
   "cell_type": "code",
   "execution_count": 54,
   "metadata": {},
   "outputs": [],
   "source": [
    "import data_utils\n",
    "import embedding_utils\n",
    "import display_utils"
   ]
  },
  {
   "cell_type": "code",
   "execution_count": 3,
   "metadata": {},
   "outputs": [],
   "source": [
    "%load_ext autoreload\n",
    "%autoreload 2"
   ]
  },
  {
   "cell_type": "code",
   "execution_count": 4,
   "metadata": {},
   "outputs": [],
   "source": [
    "np.random.seed(1001)\n",
    "tf.set_random_seed(1001)"
   ]
  },
  {
   "cell_type": "markdown",
   "metadata": {},
   "source": [
    "### Load data"
   ]
  },
  {
   "cell_type": "code",
   "execution_count": 72,
   "metadata": {},
   "outputs": [],
   "source": [
    "VOCAB_SIZE  = 50000\n",
    "#load dataset\n",
    "with open('aux_files/dataset_%d.pkl' %VOCAB_SIZE, 'rb') as f:\n",
    "    dataset = pickle.load(f)"
   ]
  },
  {
   "cell_type": "code",
   "execution_count": 5,
   "metadata": {},
   "outputs": [],
   "source": [
    "\n",
    "#load conter-fitted word \n",
    "dist_mat = np.load('aux_files/dist_counter_%d.npy' %VOCAB_SIZE)\n",
    "# Prevent returning 0 as most similar word because it is not part of the dictionary\n",
    "dist_mat[0,:] = 100000\n",
    "dist_mat[:,0] = 100000\n",
    "\n",
    "skip_list = np.load('aux_files/missed_embeddings_counter_%d.npy' %VOCAB_SIZE)\n"
   ]
  },
  {
   "cell_type": "code",
   "execution_count": 6,
   "metadata": {},
   "outputs": [],
   "source": [
    "doc_len = [len(dataset.val_X[i]) for i in \n",
    "           range(len(dataset.val_X))]"
   ]
  },
  {
   "cell_type": "markdown",
   "metadata": {},
   "source": [
    "### Demonstrating how we find the most similar words"
   ]
  },
  {
   "cell_type": "code",
   "execution_count": 61,
   "metadata": {},
   "outputs": [
    {
     "data": {
      "text/plain": [
       "343"
      ]
     },
     "execution_count": 61,
     "metadata": {},
     "output_type": "execute_result"
    }
   ],
   "source": [
    "src_word = dataset.dict['好']\n",
    "src_word\n",
    "dataset.inv_full_dict[50000]"
   ]
  },
  {
   "cell_type": "code",
   "execution_count": 64,
   "metadata": {},
   "outputs": [
    {
     "data": {
      "text/plain": [
       "[31, 109, 67, 62, 26]"
      ]
     },
     "execution_count": 64,
     "metadata": {},
     "output_type": "execute_result"
    }
   ],
   "source": [
    "no_repl_word = ['的','得','地','了','在']\n",
    "[dataset.full_dict[word] for word in no_repl_word]"
   ]
  },
  {
   "cell_type": "code",
   "execution_count": 71,
   "metadata": {},
   "outputs": [
    {
     "name": "stdout",
     "output_type": "stream",
     "text": [
      "None\n"
     ]
    }
   ],
   "source": [
    "a, b = None, None\n",
    "print(a)"
   ]
  },
  {
   "cell_type": "code",
   "execution_count": 8,
   "metadata": {},
   "outputs": [
    {
     "name": "stdout",
     "output_type": "stream",
     "text": [
      "Closest to `国税局` are:\n",
      "----\n",
      "Closest to `翼` are:\n",
      " --  机翼   0.22788355864099952\n",
      " --  辅   0.22916311992500127\n",
      " --  翅膀   0.2738878111520009\n",
      " --  援   0.3341176668279999\n",
      " --  辅助   0.34568997297100035\n",
      " --  副   0.3563555582999989\n",
      " --  扶持   0.36099929984099965\n",
      " --  救援   0.3625574274400005\n",
      " --  支架   0.3828246505230002\n",
      " --  帮   0.390361236298\n",
      " --  援助   0.3941633762969998\n",
      " --  养   0.4035929243710008\n",
      " --  救   0.4049656322590014\n",
      " --  架   0.417898789983\n",
      " --  赞助   0.42399925209200195\n",
      " --  扶   0.42721877353100135\n",
      " --  资助   0.43061200651000053\n",
      " --  助益   0.4325585738910007\n",
      " --  声援   0.43391956708499957\n",
      " --  托   0.43443959343899996\n",
      "----\n"
     ]
    }
   ],
   "source": [
    "for i in range(6230, 6232):\n",
    "    src_word = i\n",
    "    nearest, nearest_dist = embedding_utils.pick_most_similar_words(src_word, dist_mat,20, 0.5)\n",
    "        \n",
    "    print('Closest to `%s` are:' %(dataset.inv_dict[src_word]))\n",
    "    for w_id, w_dist in zip(nearest, nearest_dist):\n",
    "          print(' -- ', dataset.inv_dict[w_id], ' ', w_dist)\n",
    "\n",
    "    print('----')"
   ]
  },
  {
   "cell_type": "markdown",
   "metadata": {},
   "source": [
    "### Loading the NLI model"
   ]
  },
  {
   "cell_type": "code",
   "execution_count": 9,
   "metadata": {},
   "outputs": [],
   "source": [
    "from NLImodel.models import NLImodelClass\n"
   ]
  },
  {
   "cell_type": "code",
   "execution_count": 10,
   "metadata": {},
   "outputs": [
    {
     "name": "stdout",
     "output_type": "stream",
     "text": [
      "Learning Rate:  0.0007\n",
      "Model Loaded.\n"
     ]
    }
   ],
   "source": [
    "model = NLImodelClass(is_train=False)\n"
   ]
  },
  {
   "cell_type": "code",
   "execution_count": 11,
   "metadata": {},
   "outputs": [
    {
     "data": {
      "text/plain": [
       "(array([    0,     0,     0,     0,     0,     0,     0,     0,     0,\n",
       "          328, 50000,    29,  2923,  1991,   236,   108, 50000,  2631,\n",
       "           29,   106,  2348, 50000,  1099,    29,  2106,    15,    52,\n",
       "          620,    62, 50000], dtype=int32),\n",
       " array([    0,     0,     0,     0,     0,     0,     0,     0,     0,\n",
       "            0,     0,     0,     0,     0,     0,     0,     0,     0,\n",
       "            0,     0,     0,     0,    29,   900,   262,    15,    52,\n",
       "         3915,  1670, 50000], dtype=int32),\n",
       " array([0., 0., 1.]),\n",
       " 2)"
      ]
     },
     "execution_count": 11,
     "metadata": {},
     "output_type": "execute_result"
    }
   ],
   "source": [
    "dataset.val_X[0], dataset.val_Y[0], dataset.val_Z[0], np.argmax(dataset.val_Z[0])"
   ]
  },
  {
   "cell_type": "code",
   "execution_count": 12,
   "metadata": {},
   "outputs": [
    {
     "data": {
      "text/plain": [
       "1"
      ]
     },
     "execution_count": 12,
     "metadata": {},
     "output_type": "execute_result"
    }
   ],
   "source": [
    "np.argmax(model.predict(dataset.val_X[0], dataset.val_X[0])) "
   ]
  },
  {
   "cell_type": "markdown",
   "metadata": {},
   "source": [
    "## Try Attack"
   ]
  },
  {
   "cell_type": "code",
   "execution_count": 76,
   "metadata": {},
   "outputs": [],
   "source": [
    "from attacks import GreedyAttack, GeneticAtack"
   ]
  },
  {
   "cell_type": "markdown",
   "metadata": {},
   "source": [
    "### Main Attack "
   ]
  },
  {
   "cell_type": "code",
   "execution_count": 77,
   "metadata": {},
   "outputs": [],
   "source": [
    "pop_size = 32\n",
    "n1 = 8\n",
    "goog_lm = None\n",
    "\n",
    "ga_atttack = GeneticAtack(model, model, model, dataset, dist_mat, \n",
    "                                  skip_list,\n",
    "                                  goog_lm, max_iters=30, \n",
    "                                   pop_size=pop_size,\n",
    "                                  \n",
    "                                  n1 = n1,\n",
    "                                  n2 = 4,\n",
    "                                 use_lm = False, use_suffix=False)"
   ]
  },
  {
   "cell_type": "code",
   "execution_count": 78,
   "metadata": {},
   "outputs": [
    {
     "name": "stdout",
     "output_type": "stream",
     "text": [
      "Shortest sentence in our test set is 30 words\n",
      "skipping neutral label..\n",
      "--------------------------\n",
      "skipping wrong classifed ..\n",
      "--------------------------\n",
      "******  1  ********\n",
      "\t\t 0  --  0.27355286\n",
      "\t\t 1  --  0.28572702\n",
      "\t\t 2  --  0.28572702\n",
      "\t\t 3  --  0.2857271\n",
      "\t\t 4  --  0.2857271\n",
      "\t\t 5  --  0.2857271\n",
      "\t\t 6  --  0.2857271\n",
      "\t\t 7  --  0.2857271\n",
      "\t\t 8  --  0.2857271\n",
      "\t\t 9  --  0.28572708\n",
      "\t\t 10  --  0.28572708\n",
      "\t\t 11  --  0.28572708\n",
      "\t\t 12  --  0.28572708\n",
      "\t\t 13  --  0.28572708\n",
      "\t\t 14  --  0.28572708\n",
      "\t\t 15  --  0.28572708\n",
      "\t\t 16  --  0.28572708\n",
      "\t\t 17  --  0.28572708\n",
      "\t\t 18  --  0.28572708\n",
      "\t\t 19  --  0.28572708\n",
      "\t\t 20  --  0.28572708\n",
      "\t\t 21  --  0.28572708\n",
      "\t\t 22  --  0.28572708\n",
      "\t\t 23  --  0.28572708\n",
      "\t\t 24  --  0.28572708\n",
      "\t\t 25  --  0.28572708\n",
      "\t\t 26  --  0.28572708\n",
      "\t\t 27  --  0.28572708\n",
      "\t\t 28  --  0.28572708\n",
      "\t\t 29  --  0.28572708\n",
      "3 failed\n",
      "--------------------------\n",
      "******  2  ********\n",
      "\t\t 0  --  0.28171492\n",
      "\t\t 1  --  0.3245815\n",
      "\t\t 2  --  0.42097265\n",
      "4 - 1 changed.\n",
      "--------------------------\n",
      "******  3  ********\n"
     ]
    },
    {
     "name": "stderr",
     "output_type": "stream",
     "text": [
      "/home/haejuu/aaai2019/haejuu/lib/python3.4/site-packages/ipykernel_launcher.py:50: DeprecationWarning: elementwise != comparison failed; this will raise an error in the future.\n"
     ]
    },
    {
     "name": "stdout",
     "output_type": "stream",
     "text": [
      "\t\t 0  --  0.5886891\n",
      "5 - 1 changed.\n",
      "--------------------------\n",
      "skipping neutral label..\n",
      "--------------------------\n",
      "******  4  ********\n",
      "\t\t 0  --  0.415536\n",
      "7 - 1 changed.\n",
      "--------------------------\n",
      "skipping neutral label..\n",
      "--------------------------\n",
      "skipping wrong classifed ..\n",
      "--------------------------\n",
      "skipping neutral label..\n",
      "--------------------------\n",
      "******  5  ********\n",
      "\t\t 0  --  0.5568071\n",
      "11 - 1 changed.\n",
      "--------------------------\n",
      "******  6  ********\n",
      "\t\t 0  --  0.17814709\n",
      "\t\t 1  --  0.27509725\n",
      "\t\t 2  --  0.32571614\n",
      "\t\t 3  --  0.38372794\n",
      "12 - 1 changed.\n",
      "--------------------------\n",
      "******  7  ********\n",
      "\t\t 0  --  0.55844045\n",
      "13 - 1 changed.\n",
      "--------------------------\n",
      "******  8  ********\n",
      "\t\t 0  --  0.3715922\n",
      "14 - 1 changed.\n",
      "--------------------------\n",
      "skipping wrong classifed ..\n",
      "--------------------------\n",
      "skipping wrong classifed ..\n",
      "--------------------------\n",
      "******  9  ********\n",
      "\t\t 0  --  0.6947248\n",
      "17 - 1 changed.\n",
      "--------------------------\n",
      "******  10  ********\n",
      "\t\t 0  --  0.2916692\n",
      "\t\t 1  --  0.46060023\n",
      "18 - 1 changed.\n",
      "--------------------------\n",
      "skipping neutral label..\n",
      "--------------------------\n",
      "******  11  ********\n",
      "\t\t 0  --  0.3267136\n",
      "\t\t 1  --  0.44922647\n",
      "20 - 1 changed.\n",
      "--------------------------\n",
      "******  12  ********\n",
      "\t\t 0  --  0.08704549\n",
      "\t\t 1  --  0.29318395\n",
      "\t\t 2  --  0.336756\n",
      "21 - 1 changed.\n",
      "--------------------------\n",
      "******  13  ********\n",
      "\t\t 0  --  0.67981803\n",
      "22 - 1 changed.\n",
      "--------------------------\n",
      "skipping neutral label..\n",
      "--------------------------\n",
      "******  14  ********\n",
      "\t\t 0  --  0.39895648\n",
      "24 - 1 changed.\n",
      "--------------------------\n",
      "******  15  ********\n",
      "\t\t 0  --  0.35600096\n",
      "25 - 1 changed.\n",
      "--------------------------\n",
      "skipping wrong classifed ..\n",
      "--------------------------\n",
      "skipping wrong classifed ..\n",
      "--------------------------\n",
      "skipping wrong classifed ..\n",
      "--------------------------\n",
      "skipping neutral label..\n",
      "--------------------------\n",
      "skipping wrong classifed ..\n",
      "--------------------------\n",
      "skipping wrong classifed ..\n",
      "--------------------------\n",
      "skipping wrong classifed ..\n",
      "--------------------------\n",
      "******  16  ********\n",
      "\t\t 0  --  0.690271\n",
      "33 - 1 changed.\n",
      "--------------------------\n",
      "******  17  ********\n",
      "\t\t 0  --  0.14144476\n",
      "\t\t 1  --  0.42102972\n",
      "34 - 1 changed.\n",
      "--------------------------\n",
      "skipping neutral label..\n",
      "--------------------------\n",
      "skipping wrong classifed ..\n",
      "--------------------------\n",
      "skipping wrong classifed ..\n",
      "--------------------------\n",
      "******  18  ********\n",
      "\t\t 0  --  0.42852783\n",
      "38 - 1 changed.\n",
      "--------------------------\n",
      "skipping wrong classifed ..\n",
      "--------------------------\n",
      "skipping neutral label..\n",
      "--------------------------\n",
      "******  19  ********\n",
      "\t\t 0  --  0.18916361\n",
      "\t\t 1  --  0.35350308\n",
      "\t\t 2  --  0.39590245\n",
      "\t\t 3  --  0.4228568\n",
      "41 - 1 changed.\n",
      "--------------------------\n",
      "skipping wrong classifed ..\n",
      "--------------------------\n",
      "******  20  ********\n",
      "\t\t 0  --  0.39586416\n",
      "\t\t 1  --  0.43690425\n",
      "43 - 1 changed.\n",
      "--------------------------\n",
      "******  21  ********\n",
      "\t\t 0  --  0.0058127604\n",
      "\t\t 1  --  0.011744131\n",
      "\t\t 2  --  0.06618694\n",
      "\t\t 3  --  0.12634218\n",
      "\t\t 4  --  0.12634218\n",
      "\t\t 5  --  0.24437761\n",
      "\t\t 6  --  0.24437761\n",
      "\t\t 7  --  0.39587572\n",
      "\t\t 8  --  0.39587572\n",
      "\t\t 9  --  0.45773914\n",
      "44 - 1 changed.\n",
      "--------------------------\n",
      "******  22  ********\n",
      "\t\t 0  --  0.5798526\n",
      "45 - 1 changed.\n",
      "--------------------------\n",
      "skipping wrong classifed ..\n",
      "--------------------------\n",
      "******  23  ********\n",
      "\t\t 0  --  0.30951643\n",
      "\t\t 1  --  0.40667173\n",
      "47 - 1 changed.\n",
      "--------------------------\n",
      "******  24  ********\n",
      "\t\t 0  --  0.3709721\n",
      "48 - 1 changed.\n",
      "--------------------------\n",
      "skipping wrong classifed ..\n",
      "--------------------------\n",
      "******  25  ********\n",
      "\t\t 0  --  0.7424653\n",
      "50 - 1 changed.\n",
      "--------------------------\n",
      "******  26  ********\n",
      "\t\t 0  --  0.41686866\n",
      "51 - 1 changed.\n",
      "--------------------------\n",
      "skipping neutral label..\n",
      "--------------------------\n",
      "skipping wrong classifed ..\n",
      "--------------------------\n",
      "skipping wrong classifed ..\n",
      "--------------------------\n",
      "skipping neutral label..\n",
      "--------------------------\n",
      "skipping wrong classifed ..\n",
      "--------------------------\n",
      "skipping wrong classifed ..\n",
      "--------------------------\n",
      "******  27  ********\n",
      "\t\t 0  --  0.4710301\n",
      "58 - 1 changed.\n",
      "--------------------------\n",
      "******  28  ********\n",
      "\t\t 0  --  0.44049284\n",
      "59 - 1 changed.\n",
      "--------------------------\n",
      "******  29  ********\n",
      "\t\t 0  --  0.4079051\n",
      "\t\t 1  --  0.45248267\n",
      "60 - 1 changed.\n",
      "--------------------------\n",
      "skipping wrong classifed ..\n",
      "--------------------------\n",
      "skipping wrong classifed ..\n",
      "--------------------------\n",
      "******  30  ********\n",
      "\t\t 0  --  0.34799471\n",
      "\t\t 1  --  0.4166934\n",
      "63 - 1 changed.\n",
      "--------------------------\n",
      "skipping wrong classifed ..\n",
      "--------------------------\n",
      "skipping neutral label..\n",
      "--------------------------\n",
      "******  31  ********\n",
      "\t\t 0  --  0.035116114\n",
      "\t\t 1  --  0.08813428\n",
      "\t\t 2  --  0.13009417\n",
      "\t\t 3  --  0.1709308\n",
      "\t\t 4  --  0.21078368\n",
      "\t\t 5  --  0.24271151\n",
      "\t\t 6  --  0.24271151\n",
      "\t\t 7  --  0.24271156\n",
      "\t\t 8  --  0.24271156\n",
      "\t\t 9  --  0.24271154\n",
      "\t\t 10  --  0.24271154\n",
      "\t\t 11  --  0.24271154\n",
      "\t\t 12  --  0.24271154\n",
      "\t\t 13  --  0.24271154\n",
      "\t\t 14  --  0.24271154\n",
      "\t\t 15  --  0.24271154\n",
      "\t\t 16  --  0.24271154\n",
      "\t\t 17  --  0.24271154\n",
      "\t\t 18  --  0.24271154\n",
      "\t\t 19  --  0.24271154\n",
      "\t\t 20  --  0.24271154\n",
      "\t\t 21  --  0.24271154\n",
      "\t\t 22  --  0.24271154\n",
      "\t\t 23  --  0.24271154\n",
      "\t\t 24  --  0.24271154\n",
      "\t\t 25  --  0.24271154\n",
      "\t\t 26  --  0.24271154\n",
      "\t\t 27  --  0.24271154\n",
      "\t\t 28  --  0.24271154\n",
      "\t\t 29  --  0.24271154\n",
      "66 failed\n",
      "--------------------------\n",
      "skipping neutral label..\n",
      "--------------------------\n",
      "******  32  ********\n",
      "\t\t 0  --  0.33361924\n",
      "\t\t 1  --  0.3658181\n",
      "\t\t 2  --  0.3841095\n",
      "68 - 1 changed.\n",
      "--------------------------\n",
      "skipping wrong classifed ..\n",
      "--------------------------\n",
      "skipping neutral label..\n",
      "--------------------------\n",
      "skipping wrong classifed ..\n",
      "--------------------------\n",
      "******  33  ********\n",
      "\t\t 0  --  0.4634418\n",
      "72 - 1 changed.\n",
      "--------------------------\n",
      "skipping too long input..\n",
      "--------------------------\n",
      "******  34  ********\n",
      "\t\t 0  --  0.10488765\n",
      "\t\t 1  --  0.13269159\n",
      "\t\t 2  --  0.23229413\n",
      "\t\t 3  --  0.23229413\n",
      "\t\t 4  --  0.26639634\n",
      "\t\t 5  --  0.31814662\n",
      "\t\t 6  --  0.39350662\n",
      "\t\t 7  --  0.39350662\n",
      "\t\t 8  --  0.39350662\n",
      "\t\t 9  --  0.39350662\n",
      "\t\t 10  --  0.40275156\n",
      "\t\t 11  --  0.42204228\n",
      "\t\t 12  --  0.42204228\n",
      "\t\t 13  --  0.4220423\n",
      "\t\t 14  --  0.4220423\n",
      "\t\t 15  --  0.4220423\n",
      "\t\t 16  --  0.4220423\n",
      "\t\t 17  --  0.4220423\n",
      "\t\t 18  --  0.4220423\n",
      "\t\t 19  --  0.4220423\n",
      "\t\t 20  --  0.4220423\n",
      "\t\t 21  --  0.4220423\n",
      "\t\t 22  --  0.4220423\n",
      "\t\t 23  --  0.4220423\n",
      "\t\t 24  --  0.4220423\n",
      "\t\t 25  --  0.4220423\n",
      "\t\t 26  --  0.4220423\n",
      "\t\t 27  --  0.4220423\n",
      "\t\t 28  --  0.4220423\n",
      "\t\t 29  --  0.4220423\n",
      "74 failed\n",
      "--------------------------\n",
      "******  35  ********\n",
      "\t\t 0  --  0.38001943\n",
      "75 - 1 changed.\n",
      "--------------------------\n",
      "******  36  ********\n",
      "\t\t 0  --  0.3582357\n",
      "\t\t 1  --  0.3582357\n",
      "\t\t 2  --  0.3582357\n",
      "\t\t 3  --  0.3582357\n",
      "\t\t 4  --  0.3939936\n",
      "76 - 1 changed.\n",
      "--------------------------\n",
      "******  37  ********\n",
      "\t\t 0  --  0.061026983\n",
      "\t\t 1  --  0.14978848\n",
      "\t\t 2  --  0.14978848\n",
      "\t\t 3  --  0.14978847\n",
      "\t\t 4  --  0.14978847\n",
      "\t\t 5  --  0.1497885\n",
      "\t\t 6  --  0.1497885\n",
      "\t\t 7  --  0.1497885\n",
      "\t\t 8  --  0.1497885\n",
      "\t\t 9  --  0.1497885\n",
      "\t\t 10  --  0.1497885\n",
      "\t\t 11  --  0.1497885\n",
      "\t\t 12  --  0.1497885\n",
      "\t\t 13  --  0.1497885\n",
      "\t\t 14  --  0.1497885\n",
      "\t\t 15  --  0.1497885\n",
      "\t\t 16  --  0.1497885\n",
      "\t\t 17  --  0.1497885\n",
      "\t\t 18  --  0.1497885\n",
      "\t\t 19  --  0.1497885\n",
      "\t\t 20  --  0.1497885\n",
      "\t\t 21  --  0.1497885\n",
      "\t\t 22  --  0.1497885\n",
      "\t\t 23  --  0.1497885\n",
      "\t\t 24  --  0.1497885\n",
      "\t\t 25  --  0.1497885\n",
      "\t\t 26  --  0.1497885\n",
      "\t\t 27  --  0.1497885\n",
      "\t\t 28  --  0.1497885\n",
      "\t\t 29  --  0.1497885\n",
      "77 failed\n",
      "--------------------------\n",
      "skipping neutral label..\n",
      "--------------------------\n",
      "skipping wrong classifed ..\n",
      "--------------------------\n",
      "skipping wrong classifed ..\n",
      "--------------------------\n",
      "skipping neutral label..\n",
      "--------------------------\n",
      "skipping wrong classifed ..\n",
      "--------------------------\n",
      "skipping neutral label..\n",
      "--------------------------\n",
      "skipping neutral label..\n",
      "--------------------------\n",
      "******  38  ********\n",
      "\t\t 0  --  0.11692795\n",
      "\t\t 1  --  0.18205556\n",
      "\t\t 2  --  0.2657605\n",
      "\t\t 3  --  0.2657605\n",
      "\t\t 4  --  0.26576057\n",
      "\t\t 5  --  0.26576057\n",
      "\t\t 6  --  0.2657605\n",
      "\t\t 7  --  0.2657605\n",
      "\t\t 8  --  0.2657605\n",
      "\t\t 9  --  0.2657605\n",
      "\t\t 10  --  0.2657605\n",
      "\t\t 11  --  0.2657605\n",
      "\t\t 12  --  0.2657605\n",
      "\t\t 13  --  0.2657605\n",
      "\t\t 14  --  0.2657605\n",
      "\t\t 15  --  0.2657605\n",
      "\t\t 16  --  0.2657605\n",
      "\t\t 17  --  0.2657605\n",
      "\t\t 18  --  0.2657605\n",
      "\t\t 19  --  0.2657605\n",
      "\t\t 20  --  0.2657605\n",
      "\t\t 21  --  0.2657605\n",
      "\t\t 22  --  0.2657605\n",
      "\t\t 23  --  0.2657605\n",
      "\t\t 24  --  0.2657605\n",
      "\t\t 25  --  0.2657605\n",
      "\t\t 26  --  0.2657605\n",
      "\t\t 27  --  0.2657605\n",
      "\t\t 28  --  0.2657605\n",
      "\t\t 29  --  0.2657605\n",
      "85 failed\n",
      "--------------------------\n",
      "skipping wrong classifed ..\n",
      "--------------------------\n",
      "skipping neutral label..\n",
      "--------------------------\n",
      "******  39  ********\n"
     ]
    },
    {
     "name": "stdout",
     "output_type": "stream",
     "text": [
      "\t\t 0  --  0.7458899\n",
      "88 - 1 changed.\n",
      "--------------------------\n",
      "skipping neutral label..\n",
      "--------------------------\n",
      "******  40  ********\n",
      "\t\t 0  --  0.60944116\n",
      "90 - 1 changed.\n",
      "--------------------------\n",
      "skipping wrong classifed ..\n",
      "--------------------------\n",
      "skipping wrong classifed ..\n",
      "--------------------------\n",
      "******  41  ********\n",
      "\t\t 0  --  0.3277387\n",
      "\t\t 1  --  0.3611592\n",
      "\t\t 2  --  0.37541673\n",
      "\t\t 3  --  0.37541673\n",
      "\t\t 4  --  0.37541673\n",
      "\t\t 5  --  0.38720146\n",
      "93 - 1 changed.\n",
      "--------------------------\n",
      "skipping wrong classifed ..\n",
      "--------------------------\n",
      "skipping wrong classifed ..\n",
      "--------------------------\n",
      "skipping wrong classifed ..\n",
      "--------------------------\n",
      "******  42  ********\n",
      "\t\t 0  --  0.5267775\n",
      "97 - 1 changed.\n",
      "--------------------------\n",
      "******  43  ********\n",
      "\t\t 0  --  0.21421513\n",
      "\t\t 1  --  0.3915852\n",
      "98 - 1 changed.\n",
      "--------------------------\n",
      "******  44  ********\n",
      "\t\t 0  --  0.7135845\n",
      "99 - 1 changed.\n",
      "--------------------------\n",
      "******  45  ********\n",
      "\t\t 0  --  0.5284755\n",
      "100 - 1 changed.\n",
      "--------------------------\n",
      "skipping wrong classifed ..\n",
      "--------------------------\n",
      "skipping wrong classifed ..\n",
      "--------------------------\n",
      "skipping wrong classifed ..\n",
      "--------------------------\n",
      "******  46  ********\n",
      "\t\t 0  --  0.42274362\n",
      "104 - 1 changed.\n",
      "--------------------------\n",
      "******  47  ********\n",
      "\t\t 0  --  0.3418113\n",
      "\t\t 1  --  0.53337884\n",
      "105 - 1 changed.\n",
      "--------------------------\n",
      "skipping wrong classifed ..\n",
      "--------------------------\n",
      "skipping neutral label..\n",
      "--------------------------\n",
      "skipping neutral label..\n",
      "--------------------------\n",
      "******  48  ********\n",
      "\t\t 0  --  0.26980323\n",
      "\t\t 1  --  0.34382248\n",
      "\t\t 2  --  0.35743052\n",
      "\t\t 3  --  0.37591222\n",
      "\t\t 4  --  0.43318295\n",
      "\t\t 5  --  0.44805762\n",
      "\t\t 6  --  0.44805762\n",
      "\t\t 7  --  0.44805762\n",
      "\t\t 8  --  0.44805762\n",
      "\t\t 9  --  0.44805762\n",
      "\t\t 10  --  0.44805762\n",
      "\t\t 11  --  0.44805762\n",
      "\t\t 12  --  0.44805774\n",
      "\t\t 13  --  0.44805774\n",
      "\t\t 14  --  0.44805774\n",
      "\t\t 15  --  0.44805774\n",
      "\t\t 16  --  0.44805774\n",
      "\t\t 17  --  0.44805774\n",
      "\t\t 18  --  0.44805774\n",
      "\t\t 19  --  0.44805774\n",
      "\t\t 20  --  0.44805774\n",
      "\t\t 21  --  0.44805774\n",
      "\t\t 22  --  0.44805774\n",
      "\t\t 23  --  0.44805774\n",
      "\t\t 24  --  0.44805774\n",
      "\t\t 25  --  0.44805774\n",
      "\t\t 26  --  0.44805774\n",
      "\t\t 27  --  0.44805774\n",
      "\t\t 28  --  0.44805774\n",
      "\t\t 29  --  0.44805774\n",
      "109 failed\n",
      "--------------------------\n",
      "skipping wrong classifed ..\n",
      "--------------------------\n",
      "******  49  ********\n",
      "\t\t 0  --  0.35549313\n",
      "\t\t 1  --  0.394261\n",
      "111 - 1 changed.\n",
      "--------------------------\n",
      "skipping wrong classifed ..\n",
      "--------------------------\n",
      "******  50  ********\n",
      "\t\t 0  --  0.033464015\n",
      "\t\t 1  --  0.2094101\n",
      "\t\t 2  --  0.43997434\n",
      "113 - 1 changed.\n",
      "--------------------------\n"
     ]
    }
   ],
   "source": [
    "TEST_SIZE = 1000\n",
    "#use val data for attack\n",
    "test_idx = np.random.choice(len(dataset.val_Z), TEST_SIZE, replace=False)#随机index,总共1000个\n",
    "test_len = []\n",
    "for i in range(TEST_SIZE):\n",
    "    test_len.append(len(dataset.val_Y[test_idx[i]]))\n",
    "print('Shortest sentence in our test set is %d words' %np.min(test_len))\n",
    "\n",
    "test_list = []\n",
    "orig_list = []\n",
    "orig_list_no_max = []\n",
    "orig_label_list = []\n",
    "adv_list = []\n",
    "dist_list = []\n",
    "\n",
    "for i in range(TEST_SIZE):\n",
    "    x_orig = [dataset.val_X[test_idx[i]], dataset.val_Y[test_idx[i]]]\n",
    "    x_orig_no_max = [dataset.val_X_nomax[test_idx[i]], dataset.val_Y_nomax[test_idx[i]]]\n",
    "    orig_label = np.argmax(dataset.val_Z[test_idx[i]])\n",
    "    orig_preds=  model.predict(x_orig[0], x_orig[1])\n",
    "    # print(orig_label, orig_preds, np.argmax(orig_preds))\n",
    "    if np.argmax(orig_preds) != orig_label:\n",
    "        print('skipping wrong classifed ..')\n",
    "        print('--------------------------')\n",
    "        continue\n",
    "    x_len = np.sum(np.sign(x_orig[1]))\n",
    "    if x_len >= 30:\n",
    "        print('skipping too long input..')\n",
    "        print('--------------------------')\n",
    "        continue\n",
    "    if orig_label == 0:\n",
    "        print('skipping neutral label..')\n",
    "        print('--------------------------')\n",
    "        continue\n",
    "    # if np.max(orig_preds) < 0.90:\n",
    "    #    print('skipping low confidence .. \\n-----\\n')\n",
    "    #    continue\n",
    "    print('****** ', len(test_list) + 1, ' ********')\n",
    "    test_list.append(test_idx[i])\n",
    "    orig_list.append(x_orig)\n",
    "    orig_list_no_max.append(x_orig_no_max)\n",
    "    target_label = 1 if orig_label == 2 else 2\n",
    "    orig_label_list.append(orig_label)\n",
    "    x_adv = ga_atttack.attack( x_orig, target_label)\n",
    "    adv_list.append(x_adv)\n",
    "    if x_adv is None:\n",
    "        print('%d failed' %(i+1))\n",
    "        dist_list.append(100000)\n",
    "    else:\n",
    "        num_changes = np.sum(x_orig[1] != x_adv)\n",
    "        print('%d - %d changed.' %(i+1, num_changes))\n",
    "        dist_list.append(num_changes)\n",
    "        # display_utils.visualize_attack(sess, model, dataset, x_orig, x_adv)\n",
    "    print('--------------------------')\n",
    "    if (len(test_list)>= 50):\n",
    "        break"
   ]
  },
  {
   "cell_type": "markdown",
   "metadata": {},
   "source": [
    "### Visualize some output results"
   ]
  },
  {
   "cell_type": "code",
   "execution_count": 79,
   "metadata": {},
   "outputs": [
    {
     "name": "stdout",
     "output_type": "stream",
     "text": [
      "Median number of modifications  1.0\n"
     ]
    }
   ],
   "source": [
    "print('Median number of modifications ' , np.median([x for x in dist_list if x != 100000]))"
   ]
  },
  {
   "cell_type": "code",
   "execution_count": 80,
   "metadata": {},
   "outputs": [],
   "source": [
    "orig_len = [np.sum(np.sign(x)) for x in orig_list[1]]\n",
    "ratio = [dist_list[i]/orig_len[i] for i in range(len(orig_list[1]))]"
   ]
  },
  {
   "cell_type": "code",
   "execution_count": 81,
   "metadata": {},
   "outputs": [
    {
     "data": {
      "text/plain": [
       "0.05263157894736842"
      ]
     },
     "execution_count": 81,
     "metadata": {},
     "output_type": "execute_result"
    }
   ],
   "source": [
    "ratio_success = [x for x in ratio if x < 1.0]\n",
    "np.mean(ratio_success)"
   ]
  },
  {
   "cell_type": "code",
   "execution_count": 84,
   "metadata": {},
   "outputs": [
    {
     "name": "stdout",
     "output_type": "stream",
     "text": [
      "0\n",
      "1\n",
      "Original Prediction = Contradiction. (Confidence = 65.43) \n",
      "Premise\n"
     ]
    },
    {
     "data": {
      "text/html": [
       "我 相信 这 是 杀掉 铁血 船长 的 希望 ， 是 他 让 我 叔叔 离开 巴巴多斯 种植园 去 接受 牙买加 的 副 州长 职位 。"
      ],
      "text/plain": [
       "<IPython.core.display.HTML object>"
      ]
     },
     "metadata": {},
     "output_type": "display_data"
    },
    {
     "name": "stdout",
     "output_type": "stream",
     "text": [
      "Hypothesis\n"
     ]
    },
    {
     "data": {
      "text/html": [
       "我 叔叔 <b style='color:green'>曾经</b> 爱 <b style='color:green'>过</b> blood 船长 ， 他 <b style='color:green'>从来</b> <b style='color:green'>没有</b> 离开 过 他 在 巴巴多斯 的 种植园 。"
      ],
      "text/plain": [
       "<IPython.core.display.HTML object>"
      ]
     },
     "metadata": {},
     "output_type": "display_data"
    },
    {
     "name": "stdout",
     "output_type": "stream",
     "text": [
      "---------  After attack -------------\n",
      "New Prediction = Entailment. (Confidence = 36.60) \n"
     ]
    },
    {
     "data": {
      "text/html": [
       "我 叔叔 <b style='color:red'>一下</b> 爱 <b style='color:red'>通过</b> blood 船长 ， 他 <b style='color:red'>时刻</b> <b style='color:red'>并没有</b> 离开 过 他 在 巴巴多斯 的 种植园 。"
      ],
      "text/plain": [
       "<IPython.core.display.HTML object>"
      ]
     },
     "metadata": {},
     "output_type": "display_data"
    },
    {
     "name": "stdout",
     "output_type": "stream",
     "text": [
      "2\n",
      "Original Prediction = Contradiction. (Confidence = 95.19) \n",
      "Premise\n"
     ]
    },
    {
     "data": {
      "text/html": [
       "他们 搬 到 了 夏洛特 的 mallard creek 。"
      ],
      "text/plain": [
       "<IPython.core.display.HTML object>"
      ]
     },
     "metadata": {},
     "output_type": "display_data"
    },
    {
     "name": "stdout",
     "output_type": "stream",
     "text": [
      "Hypothesis\n"
     ]
    },
    {
     "data": {
      "text/html": [
       "他们 <b style='color:green'>从未</b> 搬 到 过 夏洛特 。"
      ],
      "text/plain": [
       "<IPython.core.display.HTML object>"
      ]
     },
     "metadata": {},
     "output_type": "display_data"
    },
    {
     "name": "stdout",
     "output_type": "stream",
     "text": [
      "---------  After attack -------------\n",
      "New Prediction = Entailment. (Confidence = 50.22) \n"
     ]
    },
    {
     "data": {
      "text/html": [
       "他们 <b style='color:red'>历来</b> 搬 到 过 夏洛特 。"
      ],
      "text/plain": [
       "<IPython.core.display.HTML object>"
      ]
     },
     "metadata": {},
     "output_type": "display_data"
    },
    {
     "name": "stdout",
     "output_type": "stream",
     "text": [
      "3\n",
      "Original Prediction = Entailment. (Confidence = 57.64) \n",
      "Premise\n"
     ]
    },
    {
     "data": {
      "text/html": [
       "如果 产品 中 包含 有 更 多 的 新 内容 或 发明 ， 完全 集成 的 产品 原型 经常 被用 来 证明 这个 设计 满足 产品 设计 要求 。"
      ],
      "text/plain": [
       "<IPython.core.display.HTML object>"
      ]
     },
     "metadata": {},
     "output_type": "display_data"
    },
    {
     "name": "stdout",
     "output_type": "stream",
     "text": [
      "Hypothesis\n"
     ]
    },
    {
     "data": {
      "text/html": [
       "<b style='color:green'>常</b> 使用 原型 来 演示 设计 要求 。"
      ],
      "text/plain": [
       "<IPython.core.display.HTML object>"
      ]
     },
     "metadata": {},
     "output_type": "display_data"
    },
    {
     "name": "stdout",
     "output_type": "stream",
     "text": [
      "---------  After attack -------------\n",
      "New Prediction = Contradiction. (Confidence = 43.48) \n"
     ]
    },
    {
     "data": {
      "text/html": [
       "<b style='color:red'>总是</b> 使用 原型 来 演示 设计 要求 。"
      ],
      "text/plain": [
       "<IPython.core.display.HTML object>"
      ]
     },
     "metadata": {},
     "output_type": "display_data"
    },
    {
     "name": "stdout",
     "output_type": "stream",
     "text": [
      "4\n",
      "Original Prediction = Entailment. (Confidence = 50.24) \n",
      "Premise\n"
     ]
    },
    {
     "data": {
      "text/html": [
       "在 反恐 斗争 中 ， 这些 区别 似乎 越来越 虚假 。"
      ],
      "text/plain": [
       "<IPython.core.display.HTML object>"
      ]
     },
     "metadata": {},
     "output_type": "display_data"
    },
    {
     "name": "stdout",
     "output_type": "stream",
     "text": [
      "Hypothesis\n"
     ]
    },
    {
     "data": {
      "text/html": [
       "有 <b style='color:green'>一</b> 场 反恐斗争 。"
      ],
      "text/plain": [
       "<IPython.core.display.HTML object>"
      ]
     },
     "metadata": {},
     "output_type": "display_data"
    },
    {
     "name": "stdout",
     "output_type": "stream",
     "text": [
      "---------  After attack -------------\n",
      "New Prediction = Contradiction. (Confidence = 52.03) \n"
     ]
    },
    {
     "data": {
      "text/html": [
       "有 <b style='color:red'>唯一</b> 场 反恐斗争 。"
      ],
      "text/plain": [
       "<IPython.core.display.HTML object>"
      ]
     },
     "metadata": {},
     "output_type": "display_data"
    },
    {
     "name": "stdout",
     "output_type": "stream",
     "text": [
      "5\n",
      "Original Prediction = Contradiction. (Confidence = 55.17) \n",
      "Premise\n"
     ]
    },
    {
     "data": {
      "text/html": [
       "今天 在 北京 几乎 没有 它 的 踪迹 。"
      ],
      "text/plain": [
       "<IPython.core.display.HTML object>"
      ]
     },
     "metadata": {},
     "output_type": "display_data"
    },
    {
     "name": "stdout",
     "output_type": "stream",
     "text": [
      "Hypothesis\n"
     ]
    },
    {
     "data": {
      "text/html": [
       "你 <b style='color:green'>仍然</b> <b style='color:green'>可以</b> <b style='color:green'>看到</b> <b style='color:green'>一</b> <b style='color:green'>大</b> 堆 。"
      ],
      "text/plain": [
       "<IPython.core.display.HTML object>"
      ]
     },
     "metadata": {},
     "output_type": "display_data"
    },
    {
     "name": "stdout",
     "output_type": "stream",
     "text": [
      "---------  After attack -------------\n",
      "New Prediction = Contradiction. (Confidence = 35.12) \n"
     ]
    },
    {
     "data": {
      "text/html": [
       "你 <b style='color:red'>已经</b> <b style='color:red'>好吧</b> <b style='color:red'>瞥见</b> <b style='color:red'>乙</b> <b style='color:red'>曼</b> 堆 。"
      ],
      "text/plain": [
       "<IPython.core.display.HTML object>"
      ]
     },
     "metadata": {},
     "output_type": "display_data"
    },
    {
     "name": "stdout",
     "output_type": "stream",
     "text": [
      "6\n",
      "Original Prediction = Contradiction. (Confidence = 63.84) \n",
      "Premise\n"
     ]
    },
    {
     "data": {
      "text/html": [
       "如果 他 现在 可以 证明 …"
      ],
      "text/plain": [
       "<IPython.core.display.HTML object>"
      ]
     },
     "metadata": {},
     "output_type": "display_data"
    },
    {
     "name": "stdout",
     "output_type": "stream",
     "text": [
      "Hypothesis\n"
     ]
    },
    {
     "data": {
      "text/html": [
       "他 当然 <b style='color:green'>无法</b> 证明 这 一 点 。"
      ],
      "text/plain": [
       "<IPython.core.display.HTML object>"
      ]
     },
     "metadata": {},
     "output_type": "display_data"
    },
    {
     "name": "stdout",
     "output_type": "stream",
     "text": [
      "---------  After attack -------------\n",
      "New Prediction = Entailment. (Confidence = 39.05) \n"
     ]
    },
    {
     "data": {
      "text/html": [
       "他 当然 <b style='color:red'>莫</b> 证明 这 一 点 。"
      ],
      "text/plain": [
       "<IPython.core.display.HTML object>"
      ]
     },
     "metadata": {},
     "output_type": "display_data"
    },
    {
     "name": "stdout",
     "output_type": "stream",
     "text": [
      "7\n",
      "Original Prediction = Contradiction. (Confidence = 91.95) \n",
      "Premise\n"
     ]
    },
    {
     "data": {
      "text/html": [
       "所以 ， 她 的 表情 是 ， 看 ， 查查 ， 看看 这个 公司 。"
      ],
      "text/plain": [
       "<IPython.core.display.HTML object>"
      ]
     },
     "metadata": {},
     "output_type": "display_data"
    },
    {
     "name": "stdout",
     "output_type": "stream",
     "text": [
      "Hypothesis\n"
     ]
    },
    {
     "data": {
      "text/html": [
       "她 <b style='color:green'>没有</b> 跟 我 说话 。"
      ],
      "text/plain": [
       "<IPython.core.display.HTML object>"
      ]
     },
     "metadata": {},
     "output_type": "display_data"
    },
    {
     "name": "stdout",
     "output_type": "stream",
     "text": [
      "---------  After attack -------------\n",
      "New Prediction = Contradiction. (Confidence = 34.38) \n"
     ]
    },
    {
     "data": {
      "text/html": [
       "她 <b style='color:red'>并没有</b> 跟 我 说话 。"
      ],
      "text/plain": [
       "<IPython.core.display.HTML object>"
      ]
     },
     "metadata": {},
     "output_type": "display_data"
    },
    {
     "name": "stdout",
     "output_type": "stream",
     "text": [
      "8\n",
      "Original Prediction = Contradiction. (Confidence = 97.35) \n",
      "Premise\n"
     ]
    },
    {
     "data": {
      "text/html": [
       "能 帮助 我 的 女孩 在 小镇 的 另 一边 。"
      ],
      "text/plain": [
       "<IPython.core.display.HTML object>"
      ]
     },
     "metadata": {},
     "output_type": "display_data"
    },
    {
     "name": "stdout",
     "output_type": "stream",
     "text": [
      "Hypothesis\n"
     ]
    },
    {
     "data": {
      "text/html": [
       "<b style='color:green'>没有</b> 人 能 帮助 我 。"
      ],
      "text/plain": [
       "<IPython.core.display.HTML object>"
      ]
     },
     "metadata": {},
     "output_type": "display_data"
    },
    {
     "name": "stdout",
     "output_type": "stream",
     "text": [
      "---------  After attack -------------\n",
      "New Prediction = Entailment. (Confidence = 59.06) \n"
     ]
    },
    {
     "data": {
      "text/html": [
       "<b style='color:red'>并没有</b> 人 能 帮助 我 。"
      ],
      "text/plain": [
       "<IPython.core.display.HTML object>"
      ]
     },
     "metadata": {},
     "output_type": "display_data"
    },
    {
     "name": "stdout",
     "output_type": "stream",
     "text": [
      "9\n",
      "Original Prediction = Contradiction. (Confidence = 78.38) \n",
      "Premise\n"
     ]
    },
    {
     "data": {
      "text/html": [
       "那 就 是 ： 已经 有人 通知 了 他 julian wade 勋爵 的 到来 。"
      ],
      "text/plain": [
       "<IPython.core.display.HTML object>"
      ]
     },
     "metadata": {},
     "output_type": "display_data"
    },
    {
     "name": "stdout",
     "output_type": "stream",
     "text": [
      "Hypothesis\n"
     ]
    },
    {
     "data": {
      "text/html": [
       "<b style='color:green'>没有</b> 一个 人 <b style='color:green'>预料</b> 到 julian wade 勋爵 的 快速 接近 。"
      ],
      "text/plain": [
       "<IPython.core.display.HTML object>"
      ]
     },
     "metadata": {},
     "output_type": "display_data"
    },
    {
     "name": "stdout",
     "output_type": "stream",
     "text": [
      "---------  After attack -------------\n",
      "New Prediction = Contradiction. (Confidence = 40.14) \n"
     ]
    },
    {
     "data": {
      "text/html": [
       "<b style='color:red'>却</b> 一个 人 <b style='color:red'>预言</b> 到 julian wade 勋爵 的 快速 接近 。"
      ],
      "text/plain": [
       "<IPython.core.display.HTML object>"
      ]
     },
     "metadata": {},
     "output_type": "display_data"
    },
    {
     "name": "stdout",
     "output_type": "stream",
     "text": [
      "10\n",
      "Original Prediction = Contradiction. (Confidence = 50.96) \n",
      "Premise\n"
     ]
    },
    {
     "data": {
      "text/html": [
       "我 继续 拿 起 行李 ， 然后 前往 我 应该 去 的 地址 。"
      ],
      "text/plain": [
       "<IPython.core.display.HTML object>"
      ]
     },
     "metadata": {},
     "output_type": "display_data"
    },
    {
     "name": "stdout",
     "output_type": "stream",
     "text": [
      "Hypothesis\n"
     ]
    },
    {
     "data": {
      "text/html": [
       "我 <b style='color:green'>留下</b> 了 包裹 并 认为 这 <b style='color:green'>不</b> <b style='color:green'>是</b> 我 的 问题 。"
      ],
      "text/plain": [
       "<IPython.core.display.HTML object>"
      ]
     },
     "metadata": {},
     "output_type": "display_data"
    },
    {
     "name": "stdout",
     "output_type": "stream",
     "text": [
      "---------  After attack -------------\n",
      "New Prediction = Contradiction. (Confidence = 42.10) \n"
     ]
    },
    {
     "data": {
      "text/html": [
       "我 <b style='color:red'>保存</b> 了 包裹 并 认为 这 <b style='color:red'>勿</b> <b style='color:red'>即</b> 我 的 问题 。"
      ],
      "text/plain": [
       "<IPython.core.display.HTML object>"
      ]
     },
     "metadata": {},
     "output_type": "display_data"
    },
    {
     "name": "stdout",
     "output_type": "stream",
     "text": [
      "11\n",
      "Original Prediction = Contradiction. (Confidence = 81.74) \n",
      "Premise\n"
     ]
    },
    {
     "data": {
      "text/html": [
       "她 一直 在 我们 身边"
      ],
      "text/plain": [
       "<IPython.core.display.HTML object>"
      ]
     },
     "metadata": {},
     "output_type": "display_data"
    },
    {
     "name": "stdout",
     "output_type": "stream",
     "text": [
      "Hypothesis\n"
     ]
    },
    {
     "data": {
      "text/html": [
       "她 <b style='color:green'>从未</b> 在 任何 <b style='color:green'>事情</b> 上 支持 我们 ！"
      ],
      "text/plain": [
       "<IPython.core.display.HTML object>"
      ]
     },
     "metadata": {},
     "output_type": "display_data"
    },
    {
     "name": "stdout",
     "output_type": "stream",
     "text": [
      "---------  After attack -------------\n",
      "New Prediction = Entailment. (Confidence = 33.68) \n"
     ]
    },
    {
     "data": {
      "text/html": [
       "她 <b style='color:red'>始终</b> 在 任何 <b style='color:red'>事</b> 上 支持 我们 ！"
      ],
      "text/plain": [
       "<IPython.core.display.HTML object>"
      ]
     },
     "metadata": {},
     "output_type": "display_data"
    },
    {
     "name": "stdout",
     "output_type": "stream",
     "text": [
      "12\n",
      "Original Prediction = Entailment. (Confidence = 77.27) \n",
      "Premise\n"
     ]
    },
    {
     "data": {
      "text/html": [
       "我 …… 我 没有 做梦 ……"
      ],
      "text/plain": [
       "<IPython.core.display.HTML object>"
      ]
     },
     "metadata": {},
     "output_type": "display_data"
    },
    {
     "name": "stdout",
     "output_type": "stream",
     "text": [
      "Hypothesis\n"
     ]
    },
    {
     "data": {
      "text/html": [
       "我 <b style='color:green'>没</b> 做梦 。"
      ],
      "text/plain": [
       "<IPython.core.display.HTML object>"
      ]
     },
     "metadata": {},
     "output_type": "display_data"
    },
    {
     "name": "stdout",
     "output_type": "stream",
     "text": [
      "---------  After attack -------------\n",
      "New Prediction = Contradiction. (Confidence = 56.99) \n"
     ]
    },
    {
     "data": {
      "text/html": [
       "我 <b style='color:red'>下来</b> 做梦 。"
      ],
      "text/plain": [
       "<IPython.core.display.HTML object>"
      ]
     },
     "metadata": {},
     "output_type": "display_data"
    },
    {
     "name": "stdout",
     "output_type": "stream",
     "text": [
      "13\n",
      "Original Prediction = Entailment. (Confidence = 47.36) \n",
      "Premise\n"
     ]
    },
    {
     "data": {
      "text/html": [
       "然而 ， 第二 天 发布 的 预算 指导 强调 枪支 犯罪 、 毒品 贩运 和 公民 权利 是 优先 事项 。"
      ],
      "text/plain": [
       "<IPython.core.display.HTML object>"
      ]
     },
     "metadata": {},
     "output_type": "display_data"
    },
    {
     "name": "stdout",
     "output_type": "stream",
     "text": [
      "Hypothesis\n"
     ]
    },
    {
     "data": {
      "text/html": [
       "枪支 <b style='color:green'>犯罪</b> 是 预算 指导 强调 的 重点 之一 。"
      ],
      "text/plain": [
       "<IPython.core.display.HTML object>"
      ]
     },
     "metadata": {},
     "output_type": "display_data"
    },
    {
     "name": "stdout",
     "output_type": "stream",
     "text": [
      "---------  After attack -------------\n",
      "New Prediction = Contradiction. (Confidence = 43.12) \n"
     ]
    },
    {
     "data": {
      "text/html": [
       "枪支 <b style='color:red'>罪恶</b> 是 预算 指导 强调 的 重点 之一 。"
      ],
      "text/plain": [
       "<IPython.core.display.HTML object>"
      ]
     },
     "metadata": {},
     "output_type": "display_data"
    },
    {
     "name": "stdout",
     "output_type": "stream",
     "text": [
      "14\n",
      "Original Prediction = Entailment. (Confidence = 47.56) \n",
      "Premise\n"
     ]
    },
    {
     "data": {
      "text/html": [
       "是 一 枚 小 螺钉 设置 的 注射器 ， 但是 ， 对 着 飞行员 的 呼吸 压力 管 和 反压力 。"
      ],
      "text/plain": [
       "<IPython.core.display.HTML object>"
      ]
     },
     "metadata": {},
     "output_type": "display_data"
    },
    {
     "name": "stdout",
     "output_type": "stream",
     "text": [
      "Hypothesis\n"
     ]
    },
    {
     "data": {
      "text/html": [
       "螺丝 <b style='color:green'>会</b> 影响 压力 。"
      ],
      "text/plain": [
       "<IPython.core.display.HTML object>"
      ]
     },
     "metadata": {},
     "output_type": "display_data"
    },
    {
     "name": "stdout",
     "output_type": "stream",
     "text": [
      "---------  After attack -------------\n",
      "New Prediction = Contradiction. (Confidence = 35.59) \n"
     ]
    },
    {
     "data": {
      "text/html": [
       "螺丝 <b style='color:red'>以为</b> 影响 压力 。"
      ],
      "text/plain": [
       "<IPython.core.display.HTML object>"
      ]
     },
     "metadata": {},
     "output_type": "display_data"
    },
    {
     "name": "stdout",
     "output_type": "stream",
     "text": [
      "15\n",
      "Original Prediction = Entailment. (Confidence = 52.97) \n",
      "Premise\n"
     ]
    },
    {
     "data": {
      "text/html": [
       "她 甚至 忘 了 婚礼 仪式 ， 她 甚至 不 知道 她 结婚 了 ， 真的 —— 。"
      ],
      "text/plain": [
       "<IPython.core.display.HTML object>"
      ]
     },
     "metadata": {},
     "output_type": "display_data"
    },
    {
     "name": "stdout",
     "output_type": "stream",
     "text": [
      "Hypothesis\n"
     ]
    },
    {
     "data": {
      "text/html": [
       "她 <b style='color:green'>不</b> 明白 发生 了 什么 事情 。"
      ],
      "text/plain": [
       "<IPython.core.display.HTML object>"
      ]
     },
     "metadata": {},
     "output_type": "display_data"
    },
    {
     "name": "stdout",
     "output_type": "stream",
     "text": [
      "---------  After attack -------------\n",
      "New Prediction = Contradiction. (Confidence = 68.80) \n"
     ]
    },
    {
     "data": {
      "text/html": [
       "她 <b style='color:red'>任何</b> 明白 发生 了 什么 事情 。"
      ],
      "text/plain": [
       "<IPython.core.display.HTML object>"
      ]
     },
     "metadata": {},
     "output_type": "display_data"
    },
    {
     "name": "stdout",
     "output_type": "stream",
     "text": [
      "16\n",
      "Original Prediction = Entailment. (Confidence = 76.12) \n",
      "Premise\n"
     ]
    },
    {
     "data": {
      "text/html": [
       "到 时候 我 肯定 告诉 你 。"
      ],
      "text/plain": [
       "<IPython.core.display.HTML object>"
      ]
     },
     "metadata": {},
     "output_type": "display_data"
    },
    {
     "name": "stdout",
     "output_type": "stream",
     "text": [
      "Hypothesis\n"
     ]
    },
    {
     "data": {
      "text/html": [
       "<b style='color:green'>好</b> 的 ， 我 <b style='color:green'>会</b> <b style='color:green'>告诉</b> 你 的 。"
      ],
      "text/plain": [
       "<IPython.core.display.HTML object>"
      ]
     },
     "metadata": {},
     "output_type": "display_data"
    },
    {
     "name": "stdout",
     "output_type": "stream",
     "text": [
      "---------  After attack -------------\n",
      "New Prediction = Contradiction. (Confidence = 41.21) \n"
     ]
    },
    {
     "data": {
      "text/html": [
       "<b style='color:red'>酷</b> 的 ， 我 <b style='color:red'>会儿</b> <b style='color:red'>告</b> 你 的 。"
      ],
      "text/plain": [
       "<IPython.core.display.HTML object>"
      ]
     },
     "metadata": {},
     "output_type": "display_data"
    },
    {
     "name": "stdout",
     "output_type": "stream",
     "text": [
      "17\n",
      "Original Prediction = Entailment. (Confidence = 48.45) \n",
      "Premise\n"
     ]
    },
    {
     "data": {
      "text/html": [
       "彼得 ， 你 一定 是 疯了 ， 竟然 这样 想 ！"
      ],
      "text/plain": [
       "<IPython.core.display.HTML object>"
      ]
     },
     "metadata": {},
     "output_type": "display_data"
    },
    {
     "name": "stdout",
     "output_type": "stream",
     "text": [
      "Hypothesis\n"
     ]
    },
    {
     "data": {
      "text/html": [
       "彼得 <b style='color:green'>有</b> 一个 似乎 无知 的 想法 。"
      ],
      "text/plain": [
       "<IPython.core.display.HTML object>"
      ]
     },
     "metadata": {},
     "output_type": "display_data"
    },
    {
     "name": "stdout",
     "output_type": "stream",
     "text": [
      "---------  After attack -------------\n",
      "New Prediction = Contradiction. (Confidence = 37.08) \n"
     ]
    },
    {
     "data": {
      "text/html": [
       "彼得 <b style='color:red'>是</b> 一个 似乎 无知 的 想法 。"
      ],
      "text/plain": [
       "<IPython.core.display.HTML object>"
      ]
     },
     "metadata": {},
     "output_type": "display_data"
    },
    {
     "name": "stdout",
     "output_type": "stream",
     "text": [
      "18\n",
      "Original Prediction = Entailment. (Confidence = 80.85) \n",
      "Premise\n"
     ]
    },
    {
     "data": {
      "text/html": [
       "国务卿 鲍威尔 和 拉姆斯菲尔德 部长 似乎 也 已经 听取 了 dci 的 这些 议题 。"
      ],
      "text/plain": [
       "<IPython.core.display.HTML object>"
      ]
     },
     "metadata": {},
     "output_type": "display_data"
    },
    {
     "name": "stdout",
     "output_type": "stream",
     "text": [
      "Hypothesis\n"
     ]
    },
    {
     "data": {
      "text/html": [
       "dci <b style='color:green'>似乎</b> <b style='color:green'>已经</b> <b style='color:green'>向</b> 鲍威尔 和 拉姆斯菲尔德 <b style='color:green'>通报</b> 了 <b style='color:green'>情况</b> 。"
      ],
      "text/plain": [
       "<IPython.core.display.HTML object>"
      ]
     },
     "metadata": {},
     "output_type": "display_data"
    },
    {
     "name": "stdout",
     "output_type": "stream",
     "text": [
      "---------  After attack -------------\n",
      "New Prediction = Contradiction. (Confidence = 46.76) \n"
     ]
    },
    {
     "data": {
      "text/html": [
       "dci <b style='color:red'>好象</b> <b style='color:red'>依然</b> <b style='color:red'>导向</b> 鲍威尔 和 拉姆斯菲尔德 <b style='color:red'>留言</b> 了 <b style='color:red'>处境</b> 。"
      ],
      "text/plain": [
       "<IPython.core.display.HTML object>"
      ]
     },
     "metadata": {},
     "output_type": "display_data"
    },
    {
     "name": "stdout",
     "output_type": "stream",
     "text": [
      "19\n",
      "Original Prediction = Entailment. (Confidence = 46.23) \n",
      "Premise\n"
     ]
    },
    {
     "data": {
      "text/html": [
       "她 说 ， 我 尽力而为 。"
      ],
      "text/plain": [
       "<IPython.core.display.HTML object>"
      ]
     },
     "metadata": {},
     "output_type": "display_data"
    },
    {
     "name": "stdout",
     "output_type": "stream",
     "text": [
      "Hypothesis\n"
     ]
    },
    {
     "data": {
      "text/html": [
       "<b style='color:green'>她</b> <b style='color:green'>说</b> 她 <b style='color:green'>尽力</b> 了 。"
      ],
      "text/plain": [
       "<IPython.core.display.HTML object>"
      ]
     },
     "metadata": {},
     "output_type": "display_data"
    },
    {
     "name": "stdout",
     "output_type": "stream",
     "text": [
      "---------  After attack -------------\n",
      "New Prediction = Contradiction. (Confidence = 42.76) \n"
     ]
    },
    {
     "data": {
      "text/html": [
       "<b style='color:red'>他</b> <b style='color:red'>云</b> 她 <b style='color:red'>竭尽全力</b> 了 。"
      ],
      "text/plain": [
       "<IPython.core.display.HTML object>"
      ]
     },
     "metadata": {},
     "output_type": "display_data"
    },
    {
     "name": "stdout",
     "output_type": "stream",
     "text": [
      "20\n",
      "Original Prediction = Contradiction. (Confidence = 93.46) \n",
      "Premise\n"
     ]
    },
    {
     "data": {
      "text/html": [
       "在 龙头 企业 ， 不断 变革 企业 运营 至关重要 ， 这 决定 了 那些 信息 管理 职责 要 如何 分配 ， 如何 满足 日益 变化 的 需求 。"
      ],
      "text/plain": [
       "<IPython.core.display.HTML object>"
      ]
     },
     "metadata": {},
     "output_type": "display_data"
    },
    {
     "name": "stdout",
     "output_type": "stream",
     "text": [
      "Hypothesis\n"
     ]
    },
    {
     "data": {
      "text/html": [
       "<b style='color:green'>由于</b> <b style='color:green'>需求</b> <b style='color:green'>永远</b> <b style='color:green'>不</b> <b style='color:green'>会</b> <b style='color:green'>改变</b> ， <b style='color:green'>所以</b> <b style='color:green'>业务</b> <b style='color:green'>流程</b> <b style='color:green'>也</b> <b style='color:green'>不</b> <b style='color:green'>需要</b> <b style='color:green'>发展</b> 。"
      ],
      "text/plain": [
       "<IPython.core.display.HTML object>"
      ]
     },
     "metadata": {},
     "output_type": "display_data"
    },
    {
     "name": "stdout",
     "output_type": "stream",
     "text": [
      "---------  After attack -------------\n",
      "New Prediction = Contradiction. (Confidence = 50.08) \n"
     ]
    },
    {
     "data": {
      "text/html": [
       "<b style='color:red'>鉴于</b> <b style='color:red'>需</b> <b style='color:red'>永久</b> <b style='color:red'>要</b> <b style='color:red'>会议</b> <b style='color:red'>转换</b> ， <b style='color:red'>于是</b> <b style='color:red'>商家</b> <b style='color:red'>步骤</b> <b style='color:red'>或者</b> <b style='color:red'>可</b> <b style='color:red'>需求</b> <b style='color:red'>增长</b> 。"
      ],
      "text/plain": [
       "<IPython.core.display.HTML object>"
      ]
     },
     "metadata": {},
     "output_type": "display_data"
    },
    {
     "name": "stdout",
     "output_type": "stream",
     "text": [
      "21\n",
      "Original Prediction = Entailment. (Confidence = 68.62) \n",
      "Premise\n"
     ]
    },
    {
     "data": {
      "text/html": [
       "对 他们 去 波斯尼亚 的 旅行 ， 请 看 中情局 报告 ， 对 阿尔 盖 达 组织 人员 的 审问 ， 2001年 10月 3日"
      ],
      "text/plain": [
       "<IPython.core.display.HTML object>"
      ]
     },
     "metadata": {},
     "output_type": "display_data"
    },
    {
     "name": "stdout",
     "output_type": "stream",
     "text": [
      "Hypothesis\n"
     ]
    },
    {
     "data": {
      "text/html": [
       "一个 阿凯达 组织 成员 <b style='color:green'>去</b> 了 波斯尼亚 。"
      ],
      "text/plain": [
       "<IPython.core.display.HTML object>"
      ]
     },
     "metadata": {},
     "output_type": "display_data"
    },
    {
     "name": "stdout",
     "output_type": "stream",
     "text": [
      "---------  After attack -------------\n",
      "New Prediction = Contradiction. (Confidence = 56.35) \n"
     ]
    },
    {
     "data": {
      "text/html": [
       "一个 阿凯达 组织 成员 <b style='color:red'>去除</b> 了 波斯尼亚 。"
      ],
      "text/plain": [
       "<IPython.core.display.HTML object>"
      ]
     },
     "metadata": {},
     "output_type": "display_data"
    },
    {
     "name": "stdout",
     "output_type": "stream",
     "text": [
      "22\n",
      "Original Prediction = Entailment. (Confidence = 52.27) \n",
      "Premise\n"
     ]
    },
    {
     "data": {
      "text/html": [
       "你 做 的 太 多 啦 。"
      ],
      "text/plain": [
       "<IPython.core.display.HTML object>"
      ]
     },
     "metadata": {},
     "output_type": "display_data"
    },
    {
     "name": "stdout",
     "output_type": "stream",
     "text": [
      "Hypothesis\n"
     ]
    },
    {
     "data": {
      "text/html": [
       "你 <b style='color:green'>正在</b> <b style='color:green'>创造</b> <b style='color:green'>一些</b> 东西 。"
      ],
      "text/plain": [
       "<IPython.core.display.HTML object>"
      ]
     },
     "metadata": {},
     "output_type": "display_data"
    },
    {
     "name": "stdout",
     "output_type": "stream",
     "text": [
      "---------  After attack -------------\n",
      "New Prediction = Contradiction. (Confidence = 44.67) \n"
     ]
    },
    {
     "data": {
      "text/html": [
       "你 <b style='color:red'>恰恰</b> <b style='color:red'>成立</b> <b style='color:red'>有的</b> 东西 。"
      ],
      "text/plain": [
       "<IPython.core.display.HTML object>"
      ]
     },
     "metadata": {},
     "output_type": "display_data"
    },
    {
     "name": "stdout",
     "output_type": "stream",
     "text": [
      "23\n",
      "Original Prediction = Entailment. (Confidence = 50.78) \n",
      "Premise\n"
     ]
    },
    {
     "data": {
      "text/html": [
       "父母 如何 辨别 语言 障碍 和 正常 语言 发展 之间 的 区别 ?"
      ],
      "text/plain": [
       "<IPython.core.display.HTML object>"
      ]
     },
     "metadata": {},
     "output_type": "display_data"
    },
    {
     "name": "stdout",
     "output_type": "stream",
     "text": [
      "Hypothesis\n"
     ]
    },
    {
     "data": {
      "text/html": [
       "父母 如何 知道 语言 发展 <b style='color:green'>是否</b> 正常 ？"
      ],
      "text/plain": [
       "<IPython.core.display.HTML object>"
      ]
     },
     "metadata": {},
     "output_type": "display_data"
    },
    {
     "name": "stdout",
     "output_type": "stream",
     "text": [
      "---------  After attack -------------\n",
      "New Prediction = Contradiction. (Confidence = 39.38) \n"
     ]
    },
    {
     "data": {
      "text/html": [
       "父母 如何 知道 语言 发展 <b style='color:red'>既然</b> 正常 ？"
      ],
      "text/plain": [
       "<IPython.core.display.HTML object>"
      ]
     },
     "metadata": {},
     "output_type": "display_data"
    },
    {
     "name": "stdout",
     "output_type": "stream",
     "text": [
      "24\n",
      "Original Prediction = Contradiction. (Confidence = 72.77) \n",
      "Premise\n"
     ]
    },
    {
     "data": {
      "text/html": [
       "显性 孟 德尔 基因 ， 你 看 ， 一旦 合适 的 环境 条件 出现 ， 很 容易 挑选 出来 。"
      ],
      "text/plain": [
       "<IPython.core.display.HTML object>"
      ]
     },
     "metadata": {},
     "output_type": "display_data"
    },
    {
     "name": "stdout",
     "output_type": "stream",
     "text": [
      "Hypothesis\n"
     ]
    },
    {
     "data": {
      "text/html": [
       "显性 孟 德尔 基因 的 合适 环境 条件 <b style='color:green'>不</b> 会 出现 。"
      ],
      "text/plain": [
       "<IPython.core.display.HTML object>"
      ]
     },
     "metadata": {},
     "output_type": "display_data"
    },
    {
     "name": "stdout",
     "output_type": "stream",
     "text": [
      "---------  After attack -------------\n",
      "New Prediction = Entailment. (Confidence = 60.07) \n"
     ]
    },
    {
     "data": {
      "text/html": [
       "显性 孟 德尔 基因 的 合适 环境 条件 <b style='color:red'>可</b> 会 出现 。"
      ],
      "text/plain": [
       "<IPython.core.display.HTML object>"
      ]
     },
     "metadata": {},
     "output_type": "display_data"
    },
    {
     "name": "stdout",
     "output_type": "stream",
     "text": [
      "25\n",
      "Original Prediction = Entailment. (Confidence = 43.40) \n",
      "Premise\n"
     ]
    },
    {
     "data": {
      "text/html": [
       "如果 美国 不 采取 积极 行动 在 伊斯兰 世界 中 定义 自己 ， 极端 分子 会 很 乐意 为 我们 做 这项 工作 。"
      ],
      "text/plain": [
       "<IPython.core.display.HTML object>"
      ]
     },
     "metadata": {},
     "output_type": "display_data"
    },
    {
     "name": "stdout",
     "output_type": "stream",
     "text": [
      "Hypothesis\n"
     ]
    },
    {
     "data": {
      "text/html": [
       "<b style='color:green'>极端</b> 分子 愿意 在 伊斯兰 世界 界定 美国 。"
      ],
      "text/plain": [
       "<IPython.core.display.HTML object>"
      ]
     },
     "metadata": {},
     "output_type": "display_data"
    },
    {
     "name": "stdout",
     "output_type": "stream",
     "text": [
      "---------  After attack -------------\n",
      "New Prediction = Contradiction. (Confidence = 41.23) \n"
     ]
    },
    {
     "data": {
      "text/html": [
       "<b style='color:red'>极为</b> 分子 愿意 在 伊斯兰 世界 界定 美国 。"
      ],
      "text/plain": [
       "<IPython.core.display.HTML object>"
      ]
     },
     "metadata": {},
     "output_type": "display_data"
    },
    {
     "name": "stdout",
     "output_type": "stream",
     "text": [
      "26\n",
      "Original Prediction = Contradiction. (Confidence = 42.54) \n",
      "Premise\n"
     ]
    },
    {
     "data": {
      "text/html": [
       "这 名 男子 被 警察 击中 ， 然后 在 飞机 还 在 地面 时 在 飞机 上 自杀 身亡 。"
      ],
      "text/plain": [
       "<IPython.core.display.HTML object>"
      ]
     },
     "metadata": {},
     "output_type": "display_data"
    },
    {
     "name": "stdout",
     "output_type": "stream",
     "text": [
      "Hypothesis\n"
     ]
    },
    {
     "data": {
      "text/html": [
       "他 在 飞机 上 <b style='color:green'>去世</b> 。"
      ],
      "text/plain": [
       "<IPython.core.display.HTML object>"
      ]
     },
     "metadata": {},
     "output_type": "display_data"
    },
    {
     "name": "stdout",
     "output_type": "stream",
     "text": [
      "---------  After attack -------------\n",
      "New Prediction = Contradiction. (Confidence = 46.73) \n"
     ]
    },
    {
     "data": {
      "text/html": [
       "他 在 飞机 上 <b style='color:red'>无常</b> 。"
      ],
      "text/plain": [
       "<IPython.core.display.HTML object>"
      ]
     },
     "metadata": {},
     "output_type": "display_data"
    },
    {
     "name": "stdout",
     "output_type": "stream",
     "text": [
      "27\n",
      "Original Prediction = Contradiction. (Confidence = 83.59) \n",
      "Premise\n"
     ]
    },
    {
     "data": {
      "text/html": [
       "16 世纪 的 威尼斯 海军 上 将 安德烈亚 · 多里 亚 说 ： 每年 6月 、 7月 、 8月 ， 地中海 港口 环境 最 好 ， 一旦 过 了 夏季"
      ],
      "text/plain": [
       "<IPython.core.display.HTML object>"
      ]
     },
     "metadata": {},
     "output_type": "display_data"
    },
    {
     "name": "stdout",
     "output_type": "stream",
     "text": [
      "Hypothesis\n"
     ]
    },
    {
     "data": {
      "text/html": [
       "地中海 <b style='color:green'>没有</b> 好 港口 。"
      ],
      "text/plain": [
       "<IPython.core.display.HTML object>"
      ]
     },
     "metadata": {},
     "output_type": "display_data"
    },
    {
     "name": "stdout",
     "output_type": "stream",
     "text": [
      "---------  After attack -------------\n",
      "New Prediction = Contradiction. (Confidence = 42.01) \n"
     ]
    },
    {
     "data": {
      "text/html": [
       "地中海 <b style='color:red'>却</b> 好 港口 。"
      ],
      "text/plain": [
       "<IPython.core.display.HTML object>"
      ]
     },
     "metadata": {},
     "output_type": "display_data"
    },
    {
     "name": "stdout",
     "output_type": "stream",
     "text": [
      "28\n",
      "Original Prediction = Entailment. (Confidence = 75.67) \n",
      "Premise\n"
     ]
    },
    {
     "data": {
      "text/html": [
       "我们 会 进去 那 地方 。"
      ],
      "text/plain": [
       "<IPython.core.display.HTML object>"
      ]
     },
     "metadata": {},
     "output_type": "display_data"
    },
    {
     "name": "stdout",
     "output_type": "stream",
     "text": [
      "Hypothesis\n"
     ]
    },
    {
     "data": {
      "text/html": [
       "<b style='color:green'>我们</b> <b style='color:green'>会</b> 进入 。"
      ],
      "text/plain": [
       "<IPython.core.display.HTML object>"
      ]
     },
     "metadata": {},
     "output_type": "display_data"
    },
    {
     "name": "stdout",
     "output_type": "stream",
     "text": [
      "---------  After attack -------------\n",
      "New Prediction = Contradiction. (Confidence = 45.75) \n"
     ]
    },
    {
     "data": {
      "text/html": [
       "<b style='color:red'>真主</b> <b style='color:red'>会儿</b> 进入 。"
      ],
      "text/plain": [
       "<IPython.core.display.HTML object>"
      ]
     },
     "metadata": {},
     "output_type": "display_data"
    },
    {
     "name": "stdout",
     "output_type": "stream",
     "text": [
      "29\n",
      "Original Prediction = Contradiction. (Confidence = 84.46) \n",
      "Premise\n"
     ]
    },
    {
     "data": {
      "text/html": [
       "所有 信贷 联盟 的 首席 执行官 和 这样 的 人 ， 所以 她 真 的 在 跟上 信贷 联盟 发生 关系"
      ],
      "text/plain": [
       "<IPython.core.display.HTML object>"
      ]
     },
     "metadata": {},
     "output_type": "display_data"
    },
    {
     "name": "stdout",
     "output_type": "stream",
     "text": [
      "Hypothesis\n"
     ]
    },
    {
     "data": {
      "text/html": [
       "她 一点 也 <b style='color:green'>不</b> 关心 <b style='color:green'>信用</b> 合作社 。"
      ],
      "text/plain": [
       "<IPython.core.display.HTML object>"
      ]
     },
     "metadata": {},
     "output_type": "display_data"
    },
    {
     "name": "stdout",
     "output_type": "stream",
     "text": [
      "---------  After attack -------------\n",
      "New Prediction = Contradiction. (Confidence = 44.15) \n"
     ]
    },
    {
     "data": {
      "text/html": [
       "她 一点 也 <b style='color:red'>可</b> 关心 <b style='color:red'>信贷</b> 合作社 。"
      ],
      "text/plain": [
       "<IPython.core.display.HTML object>"
      ]
     },
     "metadata": {},
     "output_type": "display_data"
    },
    {
     "name": "stdout",
     "output_type": "stream",
     "text": [
      "30\n",
      "31\n",
      "Original Prediction = Entailment. (Confidence = 44.27) \n",
      "Premise\n"
     ]
    },
    {
     "data": {
      "text/html": [
       "查 韦斯 的 案例 反映 了 科罗拉多 法律 服务 公司 的 调查 结果 ， 该 调查 报告 说 ， 全州 农场 的 农民工 经常 违反 联邦 法律 接触 危险 农药"
      ],
      "text/plain": [
       "<IPython.core.display.HTML object>"
      ]
     },
     "metadata": {},
     "output_type": "display_data"
    },
    {
     "name": "stdout",
     "output_type": "stream",
     "text": [
      "Hypothesis\n"
     ]
    },
    {
     "data": {
      "text/html": [
       "<b style='color:green'>查</b> 韦斯 的 <b style='color:green'>案件</b> <b style='color:green'>赞同</b> 科罗拉多 法律 <b style='color:green'>服务</b> 。"
      ],
      "text/plain": [
       "<IPython.core.display.HTML object>"
      ]
     },
     "metadata": {},
     "output_type": "display_data"
    },
    {
     "name": "stdout",
     "output_type": "stream",
     "text": [
      "---------  After attack -------------\n",
      "New Prediction = Contradiction. (Confidence = 37.84) \n"
     ]
    },
    {
     "data": {
      "text/html": [
       "<b style='color:red'>核对</b> 韦斯 的 <b style='color:red'>盒</b> <b style='color:red'>赞成</b> 科罗拉多 法律 <b style='color:red'>事</b> 。"
      ],
      "text/plain": [
       "<IPython.core.display.HTML object>"
      ]
     },
     "metadata": {},
     "output_type": "display_data"
    },
    {
     "name": "stdout",
     "output_type": "stream",
     "text": [
      "32\n",
      "Original Prediction = Contradiction. (Confidence = 83.19) \n",
      "Premise\n"
     ]
    },
    {
     "data": {
      "text/html": [
       "说 break , steak , but bleak and streak ."
      ],
      "text/plain": [
       "<IPython.core.display.HTML object>"
      ]
     },
     "metadata": {},
     "output_type": "display_data"
    },
    {
     "name": "stdout",
     "output_type": "stream",
     "text": [
      "Hypothesis\n"
     ]
    },
    {
     "data": {
      "text/html": [
       "<b style='color:green'>不</b> 要 说 休息 。"
      ],
      "text/plain": [
       "<IPython.core.display.HTML object>"
      ]
     },
     "metadata": {},
     "output_type": "display_data"
    },
    {
     "name": "stdout",
     "output_type": "stream",
     "text": [
      "---------  After attack -------------\n",
      "New Prediction = Entailment. (Confidence = 45.39) \n"
     ]
    },
    {
     "data": {
      "text/html": [
       "<b style='color:red'>可</b> 要 说 休息 。"
      ],
      "text/plain": [
       "<IPython.core.display.HTML object>"
      ]
     },
     "metadata": {},
     "output_type": "display_data"
    },
    {
     "name": "stdout",
     "output_type": "stream",
     "text": [
      "33\n",
      "34\n",
      "Original Prediction = Entailment. (Confidence = 61.06) \n",
      "Premise\n"
     ]
    },
    {
     "data": {
      "text/html": [
       "该 计划 的 教育 反馈 鼓励 合 规 ， 并 可以 作为 对 未来 不法行为 的 威慑 ， 因为 从业 人员 知道 hic 每年 跟踪 索赔 的 报销 事项 。"
      ],
      "text/plain": [
       "<IPython.core.display.HTML object>"
      ]
     },
     "metadata": {},
     "output_type": "display_data"
    },
    {
     "name": "stdout",
     "output_type": "stream",
     "text": [
      "Hypothesis\n"
     ]
    },
    {
     "data": {
      "text/html": [
       "hic 每年 <b style='color:green'>跟踪</b> 赔偿 。"
      ],
      "text/plain": [
       "<IPython.core.display.HTML object>"
      ]
     },
     "metadata": {},
     "output_type": "display_data"
    },
    {
     "name": "stdout",
     "output_type": "stream",
     "text": [
      "---------  After attack -------------\n",
      "New Prediction = Contradiction. (Confidence = 38.17) \n"
     ]
    },
    {
     "data": {
      "text/html": [
       "hic 每年 <b style='color:red'>追</b> 赔偿 。"
      ],
      "text/plain": [
       "<IPython.core.display.HTML object>"
      ]
     },
     "metadata": {},
     "output_type": "display_data"
    },
    {
     "name": "stdout",
     "output_type": "stream",
     "text": [
      "35\n",
      "Original Prediction = Contradiction. (Confidence = 85.28) \n",
      "Premise\n"
     ]
    },
    {
     "data": {
      "text/html": [
       "在 最高 法院 之前 关于 新 奥尔良 屠宰 者 权利 的 争论中 ， 公民 及其 特权 的 想法 成为 任何 剩余 的 渴望 表达 国家 权利 的 利益 相关者 。"
      ],
      "text/plain": [
       "<IPython.core.display.HTML object>"
      ]
     },
     "metadata": {},
     "output_type": "display_data"
    },
    {
     "name": "stdout",
     "output_type": "stream",
     "text": [
      "Hypothesis\n"
     ]
    },
    {
     "data": {
      "text/html": [
       "该案 <b style='color:green'>从未</b> <b style='color:green'>通过</b> <b style='color:green'>上诉</b> 法院 。"
      ],
      "text/plain": [
       "<IPython.core.display.HTML object>"
      ]
     },
     "metadata": {},
     "output_type": "display_data"
    },
    {
     "name": "stdout",
     "output_type": "stream",
     "text": [
      "---------  After attack -------------\n",
      "New Prediction = Contradiction. (Confidence = 36.30) \n"
     ]
    },
    {
     "data": {
      "text/html": [
       "该案 <b style='color:red'>历来</b> <b style='color:red'>审批</b> <b style='color:red'>请求</b> 法院 。"
      ],
      "text/plain": [
       "<IPython.core.display.HTML object>"
      ]
     },
     "metadata": {},
     "output_type": "display_data"
    },
    {
     "name": "stdout",
     "output_type": "stream",
     "text": [
      "36\n",
      "37\n",
      "38\n",
      "Original Prediction = Contradiction. (Confidence = 55.78) \n",
      "Premise\n"
     ]
    },
    {
     "data": {
      "text/html": [
       "首先 ， 我们 使用 每个 国家 的 人均 交易量 来 估计 每个 可能 的 止 损 价格 。"
      ],
      "text/plain": [
       "<IPython.core.display.HTML object>"
      ]
     },
     "metadata": {},
     "output_type": "display_data"
    },
    {
     "name": "stdout",
     "output_type": "stream",
     "text": [
      "Hypothesis\n"
     ]
    },
    {
     "data": {
      "text/html": [
       "我们 <b style='color:green'>无法</b> 确定 每个 站点 的 可能 件数 。"
      ],
      "text/plain": [
       "<IPython.core.display.HTML object>"
      ]
     },
     "metadata": {},
     "output_type": "display_data"
    },
    {
     "name": "stdout",
     "output_type": "stream",
     "text": [
      "---------  After attack -------------\n",
      "New Prediction = Entailment. (Confidence = 69.72) \n"
     ]
    },
    {
     "data": {
      "text/html": [
       "我们 <b style='color:red'>莫</b> 确定 每个 站点 的 可能 件数 。"
      ],
      "text/plain": [
       "<IPython.core.display.HTML object>"
      ]
     },
     "metadata": {},
     "output_type": "display_data"
    },
    {
     "name": "stdout",
     "output_type": "stream",
     "text": [
      "39\n",
      "Original Prediction = Contradiction. (Confidence = 89.76) \n",
      "Premise\n"
     ]
    },
    {
     "data": {
      "text/html": [
       "你 知道 ， 我 更 愿 坐 飞机 去 那里 ， 然后 享受 生活 。"
      ],
      "text/plain": [
       "<IPython.core.display.HTML object>"
      ]
     },
     "metadata": {},
     "output_type": "display_data"
    },
    {
     "name": "stdout",
     "output_type": "stream",
     "text": [
      "Hypothesis\n"
     ]
    },
    {
     "data": {
      "text/html": [
       "我 <b style='color:green'>永远</b> 不会飞 。"
      ],
      "text/plain": [
       "<IPython.core.display.HTML object>"
      ]
     },
     "metadata": {},
     "output_type": "display_data"
    },
    {
     "name": "stdout",
     "output_type": "stream",
     "text": [
      "---------  After attack -------------\n",
      "New Prediction = Entailment. (Confidence = 56.52) \n"
     ]
    },
    {
     "data": {
      "text/html": [
       "我 <b style='color:red'>深远</b> 不会飞 。"
      ],
      "text/plain": [
       "<IPython.core.display.HTML object>"
      ]
     },
     "metadata": {},
     "output_type": "display_data"
    },
    {
     "name": "stdout",
     "output_type": "stream",
     "text": [
      "40\n",
      "Original Prediction = Contradiction. (Confidence = 42.03) \n",
      "Premise\n"
     ]
    },
    {
     "data": {
      "text/html": [
       "那么 这 是 一个 问题 ， 你 购物 的 时候 会 有 什么 标准 呢 ？"
      ],
      "text/plain": [
       "<IPython.core.display.HTML object>"
      ]
     },
     "metadata": {},
     "output_type": "display_data"
    },
    {
     "name": "stdout",
     "output_type": "stream",
     "text": [
      "Hypothesis\n"
     ]
    },
    {
     "data": {
      "text/html": [
       "<b style='color:green'>当</b> 你 在 逛 街 的 <b style='color:green'>时候</b> ， <b style='color:green'>你</b> 在 <b style='color:green'>寻找</b> 的 是 什么 ？"
      ],
      "text/plain": [
       "<IPython.core.display.HTML object>"
      ]
     },
     "metadata": {},
     "output_type": "display_data"
    },
    {
     "name": "stdout",
     "output_type": "stream",
     "text": [
      "---------  After attack -------------\n",
      "New Prediction = Contradiction. (Confidence = 47.24) \n"
     ]
    },
    {
     "data": {
      "text/html": [
       "<b style='color:red'>则</b> 你 在 逛 街 的 <b style='color:red'>期间</b> ， <b style='color:red'>子</b> 在 <b style='color:red'>寻</b> 的 是 什么 ？"
      ],
      "text/plain": [
       "<IPython.core.display.HTML object>"
      ]
     },
     "metadata": {},
     "output_type": "display_data"
    },
    {
     "name": "stdout",
     "output_type": "stream",
     "text": [
      "41\n",
      "Original Prediction = Entailment. (Confidence = 49.69) \n",
      "Premise\n"
     ]
    },
    {
     "data": {
      "text/html": [
       "他 的 侠义 行 为是 愚蠢 的 。"
      ],
      "text/plain": [
       "<IPython.core.display.HTML object>"
      ]
     },
     "metadata": {},
     "output_type": "display_data"
    },
    {
     "name": "stdout",
     "output_type": "stream",
     "text": [
      "Hypothesis\n"
     ]
    },
    {
     "data": {
      "text/html": [
       "他 的 骑士风格 当然 <b style='color:green'>过分</b> 了 。"
      ],
      "text/plain": [
       "<IPython.core.display.HTML object>"
      ]
     },
     "metadata": {},
     "output_type": "display_data"
    },
    {
     "name": "stdout",
     "output_type": "stream",
     "text": [
      "---------  After attack -------------\n",
      "New Prediction = Contradiction. (Confidence = 51.57) \n"
     ]
    },
    {
     "data": {
      "text/html": [
       "他 的 骑士风格 当然 <b style='color:red'>过当</b> 了 。"
      ],
      "text/plain": [
       "<IPython.core.display.HTML object>"
      ]
     },
     "metadata": {},
     "output_type": "display_data"
    },
    {
     "name": "stdout",
     "output_type": "stream",
     "text": [
      "42\n",
      "Original Prediction = Entailment. (Confidence = 79.74) \n",
      "Premise\n"
     ]
    },
    {
     "data": {
      "text/html": [
       "大多数 的 家庭 将 会 有 一个 为 祈祷者 和 歌手 设置 的 耶稣 诞生 的 场景 。"
      ],
      "text/plain": [
       "<IPython.core.display.HTML object>"
      ]
     },
     "metadata": {},
     "output_type": "display_data"
    },
    {
     "name": "stdout",
     "output_type": "stream",
     "text": [
      "Hypothesis\n"
     ]
    },
    {
     "data": {
      "text/html": [
       "大多数 <b style='color:green'>家庭</b> 都 <b style='color:green'>有</b> 耶稣 <b style='color:green'>诞生</b> 的 场景 。"
      ],
      "text/plain": [
       "<IPython.core.display.HTML object>"
      ]
     },
     "metadata": {},
     "output_type": "display_data"
    },
    {
     "name": "stdout",
     "output_type": "stream",
     "text": [
      "---------  After attack -------------\n",
      "New Prediction = Contradiction. (Confidence = 40.08) \n"
     ]
    },
    {
     "data": {
      "text/html": [
       "大多数 <b style='color:red'>门户</b> 都 <b style='color:red'>存在</b> 耶稣 <b style='color:red'>下地</b> 的 场景 。"
      ],
      "text/plain": [
       "<IPython.core.display.HTML object>"
      ]
     },
     "metadata": {},
     "output_type": "display_data"
    },
    {
     "name": "stdout",
     "output_type": "stream",
     "text": [
      "43\n",
      "Original Prediction = Contradiction. (Confidence = 78.46) \n",
      "Premise\n"
     ]
    },
    {
     "data": {
      "text/html": [
       "即使 飞机 着火了 ， 它 也 会 燃烧 并 通过 使 铅制 组件 熔化 来 让 辐射 泄露 出去 。"
      ],
      "text/plain": [
       "<IPython.core.display.HTML object>"
      ]
     },
     "metadata": {},
     "output_type": "display_data"
    },
    {
     "name": "stdout",
     "output_type": "stream",
     "text": [
      "Hypothesis\n"
     ]
    },
    {
     "data": {
      "text/html": [
       "在 火灾 时 ， 辐射 <b style='color:green'>不</b> 会 泄漏 。"
      ],
      "text/plain": [
       "<IPython.core.display.HTML object>"
      ]
     },
     "metadata": {},
     "output_type": "display_data"
    },
    {
     "name": "stdout",
     "output_type": "stream",
     "text": [
      "---------  After attack -------------\n",
      "New Prediction = Entailment. (Confidence = 61.45) \n"
     ]
    },
    {
     "data": {
      "text/html": [
       "在 火灾 时 ， 辐射 <b style='color:red'>可</b> 会 泄漏 。"
      ],
      "text/plain": [
       "<IPython.core.display.HTML object>"
      ]
     },
     "metadata": {},
     "output_type": "display_data"
    },
    {
     "name": "stdout",
     "output_type": "stream",
     "text": [
      "44\n",
      "Original Prediction = Contradiction. (Confidence = 94.20) \n",
      "Premise\n"
     ]
    },
    {
     "data": {
      "text/html": [
       "越过 payangan ， 人迹罕至 的 小路 蜿蜒 ， 路上 乡村 风光 怡人 ， 直至 batur （ 详 见 第59 页 ） 。"
      ],
      "text/plain": [
       "<IPython.core.display.HTML object>"
      ]
     },
     "metadata": {},
     "output_type": "display_data"
    },
    {
     "name": "stdout",
     "output_type": "stream",
     "text": [
      "Hypothesis\n"
     ]
    },
    {
     "data": {
      "text/html": [
       "这 条 路 从 <b style='color:green'>未</b> 到达 巴都尔 。"
      ],
      "text/plain": [
       "<IPython.core.display.HTML object>"
      ]
     },
     "metadata": {},
     "output_type": "display_data"
    },
    {
     "name": "stdout",
     "output_type": "stream",
     "text": [
      "---------  After attack -------------\n",
      "New Prediction = Entailment. (Confidence = 38.86) \n"
     ]
    },
    {
     "data": {
      "text/html": [
       "这 条 路 从 <b style='color:red'>否</b> 到达 巴都尔 。"
      ],
      "text/plain": [
       "<IPython.core.display.HTML object>"
      ]
     },
     "metadata": {},
     "output_type": "display_data"
    },
    {
     "name": "stdout",
     "output_type": "stream",
     "text": [
      "45\n",
      "Original Prediction = Contradiction. (Confidence = 90.88) \n",
      "Premise\n"
     ]
    },
    {
     "data": {
      "text/html": [
       "另外 一个 来自 肠 血管 活性肽 的 例子 。"
      ],
      "text/plain": [
       "<IPython.core.display.HTML object>"
      ]
     },
     "metadata": {},
     "output_type": "display_data"
    },
    {
     "name": "stdout",
     "output_type": "stream",
     "text": [
      "Hypothesis\n"
     ]
    },
    {
     "data": {
      "text/html": [
       "vip <b style='color:green'>不</b> 是 一个 例子 。"
      ],
      "text/plain": [
       "<IPython.core.display.HTML object>"
      ]
     },
     "metadata": {},
     "output_type": "display_data"
    },
    {
     "name": "stdout",
     "output_type": "stream",
     "text": [
      "---------  After attack -------------\n",
      "New Prediction = Contradiction. (Confidence = 43.71) \n"
     ]
    },
    {
     "data": {
      "text/html": [
       "vip <b style='color:red'>可</b> 是 一个 例子 。"
      ],
      "text/plain": [
       "<IPython.core.display.HTML object>"
      ]
     },
     "metadata": {},
     "output_type": "display_data"
    },
    {
     "name": "stdout",
     "output_type": "stream",
     "text": [
      "46\n",
      "Original Prediction = Contradiction. (Confidence = 77.91) \n",
      "Premise\n"
     ]
    },
    {
     "data": {
      "text/html": [
       "根据 此 风险 评估 ， centrelink 制定 了 一 系列 具体 的 预防 策略 ， 旨在 教育 受益人 和 雇主 有关 收入 报告 的 要求 。"
      ],
      "text/plain": [
       "<IPython.core.display.HTML object>"
      ]
     },
     "metadata": {},
     "output_type": "display_data"
    },
    {
     "name": "stdout",
     "output_type": "stream",
     "text": [
      "Hypothesis\n"
     ]
    },
    {
     "data": {
      "text/html": [
       "centrelink <b style='color:green'>不</b> <b style='color:green'>知道</b> 如何 解决 这个 问题 。"
      ],
      "text/plain": [
       "<IPython.core.display.HTML object>"
      ]
     },
     "metadata": {},
     "output_type": "display_data"
    },
    {
     "name": "stdout",
     "output_type": "stream",
     "text": [
      "---------  After attack -------------\n",
      "New Prediction = Entailment. (Confidence = 48.15) \n"
     ]
    },
    {
     "data": {
      "text/html": [
       "centrelink <b style='color:red'>可</b> <b style='color:red'>得知</b> 如何 解决 这个 问题 。"
      ],
      "text/plain": [
       "<IPython.core.display.HTML object>"
      ]
     },
     "metadata": {},
     "output_type": "display_data"
    },
    {
     "name": "stdout",
     "output_type": "stream",
     "text": [
      "47\n",
      "48\n",
      "Original Prediction = Contradiction. (Confidence = 44.19) \n",
      "Premise\n"
     ]
    },
    {
     "data": {
      "text/html": [
       "如果 你 想 切断 它 ， 只 需 给 我 一 分钟 ， 我 会 ， 呃 ， 离开 。"
      ],
      "text/plain": [
       "<IPython.core.display.HTML object>"
      ]
     },
     "metadata": {},
     "output_type": "display_data"
    },
    {
     "name": "stdout",
     "output_type": "stream",
     "text": [
      "Hypothesis\n"
     ]
    },
    {
     "data": {
      "text/html": [
       "我 <b style='color:green'>现在</b> <b style='color:green'>就</b> 准备 <b style='color:green'>走</b> 。"
      ],
      "text/plain": [
       "<IPython.core.display.HTML object>"
      ]
     },
     "metadata": {},
     "output_type": "display_data"
    },
    {
     "name": "stdout",
     "output_type": "stream",
     "text": [
      "---------  After attack -------------\n",
      "New Prediction = Entailment. (Confidence = 37.47) \n"
     ]
    },
    {
     "data": {
      "text/html": [
       "我 <b style='color:red'>此时</b> <b style='color:red'>只</b> 准备 <b style='color:red'>躲开</b> 。"
      ],
      "text/plain": [
       "<IPython.core.display.HTML object>"
      ]
     },
     "metadata": {},
     "output_type": "display_data"
    },
    {
     "name": "stdout",
     "output_type": "stream",
     "text": [
      "49\n",
      "Original Prediction = Contradiction. (Confidence = 98.01) \n",
      "Premise\n"
     ]
    },
    {
     "data": {
      "text/html": [
       "表 a1 中 的 统计 数据 表明 ， 平均 而言 ， 收入 较 高 的 四分位数 的 路线 位于 收入 较 高 的 家庭 和 受 教育 程度 较 高"
      ],
      "text/plain": [
       "<IPython.core.display.HTML object>"
      ]
     },
     "metadata": {},
     "output_type": "display_data"
    },
    {
     "name": "stdout",
     "output_type": "stream",
     "text": [
      "Hypothesis\n"
     ]
    },
    {
     "data": {
      "text/html": [
       "该 统计 <b style='color:green'>没有</b> 表明 <b style='color:green'>任何</b> 事 。"
      ],
      "text/plain": [
       "<IPython.core.display.HTML object>"
      ]
     },
     "metadata": {},
     "output_type": "display_data"
    },
    {
     "name": "stdout",
     "output_type": "stream",
     "text": [
      "---------  After attack -------------\n",
      "New Prediction = Entailment. (Confidence = 44.23) \n"
     ]
    },
    {
     "data": {
      "text/html": [
       "该 统计 <b style='color:red'>并没有</b> 表明 <b style='color:red'>甚至</b> 事 。"
      ],
      "text/plain": [
       "<IPython.core.display.HTML object>"
      ]
     },
     "metadata": {},
     "output_type": "display_data"
    }
   ],
   "source": [
    "#visual_idx = 0\n",
    "for visual_idx in range(len(adv_list)):\n",
    "    print(visual_idx)\n",
    "    display_utils.visualize_attack(model, dataset, orig_list_no_max[visual_idx], adv_list[visual_idx])"
   ]
  },
  {
   "cell_type": "code",
   "execution_count": null,
   "metadata": {},
   "outputs": [],
   "source": []
  }
 ],
 "metadata": {
  "kernelspec": {
   "display_name": "haejuu",
   "language": "python",
   "name": "haejuu"
  },
  "language_info": {
   "codemirror_mode": {
    "name": "ipython",
    "version": 3
   },
   "file_extension": ".py",
   "mimetype": "text/x-python",
   "name": "python",
   "nbconvert_exporter": "python",
   "pygments_lexer": "ipython3",
   "version": "3.4.3"
  }
 },
 "nbformat": 4,
 "nbformat_minor": 2
}
